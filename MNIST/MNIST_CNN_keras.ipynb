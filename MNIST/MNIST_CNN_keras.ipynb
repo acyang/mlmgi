{
 "cells": [
  {
   "cell_type": "code",
   "execution_count": 1,
   "metadata": {
    "ExecuteTime": {
     "end_time": "2019-05-08T17:31:19.184636Z",
     "start_time": "2019-05-08T17:30:54.150832Z"
    }
   },
   "outputs": [
    {
     "name": "stderr",
     "output_type": "stream",
     "text": [
      "Using TensorFlow backend.\n"
     ]
    }
   ],
   "source": [
    "%matplotlib inline\n",
    "\n",
    "import numpy as np\n",
    "import matplotlib.pyplot as plt\n",
    "from keras.datasets import mnist\n",
    "from keras.utils import np_utils\n",
    "from keras.models import Sequential\n",
    "from keras.layers import Dense, Activation, Convolution2D, MaxPooling2D, Flatten\n",
    "from keras.optimizers import Adam"
   ]
  },
  {
   "cell_type": "markdown",
   "metadata": {},
   "source": [
    "![alt cnn](https://www.guru99.com/images/tensorflow/082918_1325_ConvNetConv1.png)"
   ]
  },
  {
   "cell_type": "code",
   "execution_count": 2,
   "metadata": {
    "ExecuteTime": {
     "end_time": "2019-05-08T17:31:20.153315Z",
     "start_time": "2019-05-08T17:31:19.184636Z"
    }
   },
   "outputs": [
    {
     "name": "stdout",
     "output_type": "stream",
     "text": [
      "(10000, 1, 28, 28) (60000, 1, 28, 28)\n"
     ]
    }
   ],
   "source": [
    "np.random.seed(2335)  # for reproducibility\n",
    "\n",
    "learning_rate = 1e-4 \n",
    "\n",
    "# download the mnist to the path '~/.keras/datasets/' if it is the first time to be called\n",
    "# training X shape (60000, 28x28), Y shape (60000, ).\n",
    "# test X shape (10000, 28x28), Y shape (10000, )\n",
    "(X_train, y_train), (X_test, y_test) = mnist.load_data()\n",
    "\n",
    "# data pre-processing\n",
    "# Standardize feature data \n",
    "X_train = X_train.reshape(-1, 1, 28, 28)/255.\n",
    "X_test = X_test.reshape(-1, 1, 28, 28)/255.\n",
    "print(X_test.shape, X_train.shape)\n",
    "# data_format\n",
    "# A string, one of channels_last (default) or channels_first.\n",
    "# channels_last corresponds to inputs with shape (batch, ..., channels) \n",
    "# while channels_first corresponds to inputs with shape (batch, channels, ...).\n",
    "\n",
    "# https://keras.io/zh/utils/\n",
    "y_train_oh = np_utils.to_categorical(y_train, num_classes=10)\n",
    "y_test_oh = np_utils.to_categorical(y_test, num_classes=10)"
   ]
  },
  {
   "cell_type": "code",
   "execution_count": 3,
   "metadata": {
    "ExecuteTime": {
     "end_time": "2019-05-08T17:31:20.575161Z",
     "start_time": "2019-05-08T17:31:20.153315Z"
    }
   },
   "outputs": [
    {
     "name": "stdout",
     "output_type": "stream",
     "text": [
      "WARNING:tensorflow:From D:\\anaconda3\\envs\\tensorflow\\lib\\site-packages\\tensorflow\\python\\framework\\op_def_library.py:263: colocate_with (from tensorflow.python.framework.ops) is deprecated and will be removed in a future version.\n",
      "Instructions for updating:\n",
      "Colocations handled automatically by placer.\n",
      "_________________________________________________________________\n",
      "Layer (type)                 Output Shape              Param #   \n",
      "=================================================================\n",
      "conv2d_1 (Conv2D)            (None, 32, 28, 28)        832       \n",
      "_________________________________________________________________\n",
      "activation_1 (Activation)    (None, 32, 28, 28)        0         \n",
      "_________________________________________________________________\n",
      "max_pooling2d_1 (MaxPooling2 (None, 32, 14, 14)        0         \n",
      "_________________________________________________________________\n",
      "conv2d_2 (Conv2D)            (None, 64, 14, 14)        51264     \n",
      "_________________________________________________________________\n",
      "activation_2 (Activation)    (None, 64, 14, 14)        0         \n",
      "_________________________________________________________________\n",
      "max_pooling2d_2 (MaxPooling2 (None, 64, 7, 7)          0         \n",
      "_________________________________________________________________\n",
      "flatten_1 (Flatten)          (None, 3136)              0         \n",
      "_________________________________________________________________\n",
      "dense_1 (Dense)              (None, 1024)              3212288   \n",
      "_________________________________________________________________\n",
      "activation_3 (Activation)    (None, 1024)              0         \n",
      "_________________________________________________________________\n",
      "dense_2 (Dense)              (None, 10)                10250     \n",
      "_________________________________________________________________\n",
      "activation_4 (Activation)    (None, 10)                0         \n",
      "=================================================================\n",
      "Total params: 3,274,634\n",
      "Trainable params: 3,274,634\n",
      "Non-trainable params: 0\n",
      "_________________________________________________________________\n"
     ]
    }
   ],
   "source": [
    "# Another way to build your CNN\n",
    "model = Sequential()\n",
    "\n",
    "# Conv layer 1 output shape (32, 28, 28)\n",
    "model.add(Convolution2D(\n",
    "    batch_input_shape=(None, 1, 28, 28),\n",
    "    filters=32,\n",
    "    kernel_size=5,\n",
    "    strides=1,\n",
    "    padding='same',     # Padding method\n",
    "    data_format='channels_first',\n",
    "))\n",
    "model.add(Activation('relu'))\n",
    "\n",
    "\n",
    "# Pooling layer 1 (max pooling) output shape (32, 14, 14)\n",
    "model.add(MaxPooling2D(\n",
    "    pool_size=2,\n",
    "    strides=2,\n",
    "    padding='same',    # Padding method\n",
    "    data_format='channels_first',\n",
    "))\n",
    "\n",
    "# Conv layer 2 output shape (64, 14, 14)\n",
    "model.add(Convolution2D(64, 5, strides=1, padding='same', data_format='channels_first'))\n",
    "model.add(Activation('relu'))\n",
    "\n",
    "# Pooling layer 2 (max pooling) output shape (64, 7, 7)\n",
    "model.add(MaxPooling2D(2, 2, 'same', data_format='channels_first'))\n",
    "\n",
    "# Fully connected layer 1 input shape (64 * 7 * 7) = (3136), output shape (1024)\n",
    "model.add(Flatten())\n",
    "model.add(Dense(1024))\n",
    "model.add(Activation('relu'))\n",
    "#model.add(Dropout(0.4))\n",
    "\n",
    "# Fully connected layer 2 to shape (10) for 10 classes\n",
    "model.add(Dense(10))\n",
    "model.add(Activation('softmax'))\n",
    "\n",
    "# Another way to define your optimizer\n",
    "adam = Adam(lr=learning_rate)\n",
    "\n",
    "# We add metrics to get more results you want to see\n",
    "model.compile(optimizer=adam,\n",
    "              loss='categorical_crossentropy',\n",
    "              metrics=['accuracy'])\n",
    "\n",
    "model.summary()"
   ]
  },
  {
   "cell_type": "code",
   "execution_count": 4,
   "metadata": {
    "ExecuteTime": {
     "end_time": "2019-05-08T17:34:51.798184Z",
     "start_time": "2019-05-08T17:31:20.575161Z"
    }
   },
   "outputs": [
    {
     "name": "stdout",
     "output_type": "stream",
     "text": [
      "Training ------------\n",
      "WARNING:tensorflow:From D:\\anaconda3\\envs\\tensorflow\\lib\\site-packages\\tensorflow\\python\\ops\\math_ops.py:3066: to_int32 (from tensorflow.python.ops.math_ops) is deprecated and will be removed in a future version.\n",
      "Instructions for updating:\n",
      "Use tf.cast instead.\n",
      "Epoch 1/1\n",
      "60000/60000 [==============================] - 197s 3ms/step - loss: 0.2838 - acc: 0.9203\n",
      "\n",
      "Testing ------------\n",
      "10000/10000 [==============================] - 13s 1ms/step\n",
      "\n",
      "test loss:  0.0837918290566653\n",
      "\n",
      "test accuracy:  0.9753\n"
     ]
    }
   ],
   "source": [
    "print('Training ------------')\n",
    "# Another way to train the model\n",
    "model.fit(X_train, y_train_oh, epochs=1, batch_size=64,)\n",
    "\n",
    "print('\\nTesting ------------')\n",
    "# Evaluate the model with the metrics we defined earlier\n",
    "loss, accuracy = model.evaluate(X_test, y_test_oh)\n",
    "\n",
    "print('\\ntest loss: ', loss)\n",
    "print('\\ntest accuracy: ', accuracy)\n",
    "\n",
    "model.save( \".\\cnn_model\" )"
   ]
  },
  {
   "cell_type": "code",
   "execution_count": 10,
   "metadata": {
    "ExecuteTime": {
     "end_time": "2019-05-08T17:42:34.063467Z",
     "start_time": "2019-05-08T17:42:33.844740Z"
    }
   },
   "outputs": [
    {
     "data": {
      "image/png": "[encoded data removed]",
      "text/plain": [
       "<Figure size 432x288 with 1 Axes>"
      ]
     },
     "metadata": {
      "needs_background": "light"
     },
     "output_type": "display_data"
    },
    {
     "name": "stdout",
     "output_type": "stream",
     "text": [
      "The prediction is: 7\n",
      "The test label is: [0. 0. 0. 0. 0. 0. 0. 1. 0. 0.]\n",
      "The predict label is: [[1.1235373e-06 1.0766334e-07 4.4192893e-05 5.2773059e-05 3.2226357e-08\n",
      "  2.2025713e-06 4.9374126e-11 9.9987745e-01 3.6152355e-07 2.1652775e-05]]\n"
     ]
    }
   ],
   "source": [
    "#model = load_model(\".\\cnn_model\")\n",
    "\n",
    "# Show image that we want to predict\n",
    "plt.imshow(X_test[0].reshape((28, 28)), cmap='gray')\n",
    "plt.title('%i' % np.argmax(y_test_oh[0]))\n",
    "plt.show()\n",
    "\n",
    "ans = model.predict(X_test[0].reshape((1, 1, 28, 28)), batch_size=1)\n",
    "print('The prediction is:', np.argmax(ans))\n",
    "print('The test label is:', y_test_oh[0])\n",
    "print('The predict label is:', ans)"
   ]
  },
  {
   "cell_type": "code",
   "execution_count": null,
   "metadata": {},
   "outputs": [],
   "source": []
  }
 ],
 "metadata": {
  "hide_input": false,
  "kernelspec": {
   "display_name": "Python 3",
   "language": "python",
   "name": "python3"
  },
  "language_info": {
   "codemirror_mode": {
    "name": "ipython",
    "version": 3
   },
   "file_extension": ".py",
   "mimetype": "text/x-python",
   "name": "python",
   "nbconvert_exporter": "python",
   "pygments_lexer": "ipython3",
   "version": "3.7.1"
  },
  "toc": {
   "base_numbering": 1,
   "nav_menu": {},
   "number_sections": true,
   "sideBar": true,
   "skip_h1_title": false,
   "title_cell": "Table of Contents",
   "title_sidebar": "Contents",
   "toc_cell": false,
   "toc_position": {},
   "toc_section_display": true,
   "toc_window_display": false
  },
  "varInspector": {
   "cols": {
    "lenName": 16,
    "lenType": 16,
    "lenVar": 40
   },
   "kernels_config": {
    "python": {
     "delete_cmd_postfix": "",
     "delete_cmd_prefix": "del ",
     "library": "var_list.py",
     "varRefreshCmd": "print(var_dic_list())"
    },
    "r": {
     "delete_cmd_postfix": ") ",
     "delete_cmd_prefix": "rm(",
     "library": "var_list.r",
     "varRefreshCmd": "cat(var_dic_list()) "
    }
   },
   "types_to_exclude": [
    "module",
    "function",
    "builtin_function_or_method",
    "instance",
    "_Feature"
   ],
   "window_display": false
  }
 },
 "nbformat": 4,
 "nbformat_minor": 2
}
